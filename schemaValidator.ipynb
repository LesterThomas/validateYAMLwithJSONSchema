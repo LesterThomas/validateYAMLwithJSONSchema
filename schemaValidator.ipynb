{
 "cells": [
  {
   "cell_type": "code",
   "execution_count": null,
   "metadata": {},
   "outputs": [],
   "source": [
    "!pip install jsonschema\n",
    "!pip install pyyaml"
   ]
  },
  {
   "cell_type": "code",
   "execution_count": 28,
   "metadata": {},
   "outputs": [
    {
     "data": {
      "text/plain": [
       "'Testing sampleData/Lester Thomas.yaml against schemas/speaker.yaml'"
      ]
     },
     "metadata": {},
     "output_type": "display_data"
    },
    {
     "name": "stdout",
     "output_type": "stream",
     "text": [
      "YAML document is valid against the schema.\n"
     ]
    },
    {
     "data": {
      "text/plain": [
       "'Testing sampleData/Data Analytics Global Architecture Forum.yaml against schemas/event.yaml'"
      ]
     },
     "metadata": {},
     "output_type": "display_data"
    },
    {
     "name": "stdout",
     "output_type": "stream",
     "text": [
      "YAML document is valid against the schema.\n"
     ]
    }
   ],
   "source": [
    "import jsonschema\n",
    "import yaml\n",
    "\n",
    "def validate_yaml(yaml_data, schema_data):\n",
    "    \n",
    "    # Create JSON Schema validator\n",
    "    validator = jsonschema.Draft7Validator(schema_data)\n",
    "    \n",
    "    # Validate YAML document against JSON Schema\n",
    "    errors = [error.message for error in validator.iter_errors(yaml_data)]\n",
    "    \n",
    "    if not errors:\n",
    "        print(\"YAML document is valid against the schema.\")\n",
    "    else:\n",
    "        print(\"YAML document is not valid against the schema. Errors:\")\n",
    "        for error in errors:\n",
    "            print(error)\n",
    "\n",
    "\n",
    "yaml_file = 'sampleData/Lester Thomas.yaml'\n",
    "schema_file = 'schemas/speaker.yaml'\n",
    "\n",
    "with open(yaml_file, 'r') as file:\n",
    "    yaml_doc = yaml.safe_load(file)\n",
    "\n",
    "with open(schema_file, 'r') as file:\n",
    "    schema_doc = yaml.safe_load(file)\n",
    "\n",
    "display(f'Testing {yaml_file} against {schema_file}')\n",
    "validate_yaml(yaml_doc, schema_doc)\n",
    "\n",
    "yaml_file = 'sampleData/Data Analytics Global Architecture Forum.yaml'\n",
    "schema_file = 'schemas/event.yaml'\n",
    "\n",
    "with open(yaml_file, 'r') as file:\n",
    "    yaml_doc = yaml.safe_load(file)\n",
    "\n",
    "with open(schema_file, 'r') as file:\n",
    "    schema_doc = yaml.safe_load(file)\n",
    "\n",
    "display(f'Testing {yaml_file} against {schema_file}')\n",
    "\n",
    "validate_yaml(yaml_doc, schema_doc)"
   ]
  }
 ],
 "metadata": {
  "kernelspec": {
   "display_name": "Python 3",
   "language": "python",
   "name": "python3"
  },
  "language_info": {
   "name": "python",
   "version": "3.8.10"
  },
  "orig_nbformat": 4,
  "vscode": {
   "interpreter": {
    "hash": "94f703a1a1da299db6c4b07e52c59a8bb026acab1e17004d0792d8ad474c5738"
   }
  }
 },
 "nbformat": 4,
 "nbformat_minor": 2
}
